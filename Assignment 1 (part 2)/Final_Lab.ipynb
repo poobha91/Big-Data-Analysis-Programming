{
 "metadata": {
  "language_info": {
   "codemirror_mode": {
    "name": "ipython",
    "version": 3
   },
   "file_extension": ".py",
   "mimetype": "text/x-python",
   "name": "python",
   "nbconvert_exporter": "python",
   "pygments_lexer": "ipython3",
   "version": "3.8.5-final"
  },
  "orig_nbformat": 2,
  "kernelspec": {
   "name": "python3",
   "display_name": "Python 3.8.5 64-bit",
   "metadata": {
    "interpreter": {
     "hash": "1baa965d5efe3ac65b79dfc60c0d706280b1da80fedb7760faf2759126c4f253"
    }
   }
  }
 },
 "nbformat": 4,
 "nbformat_minor": 2,
 "cells": [
  {
   "source": [
    "# Section 1: Importing and Summarizing Data\n",
    "\n",
    "You can type Python code in the code cells following the instruction cells to solve the exercises. \n",
    "\n",
    "You can also use the IPython Shell interactively. Go to View (on the menubar) and click terminal or press `Ctrl` + ` to open the terminal. Once terminal is open, type py and hit Enter. This will launch interactive python cell. You can write python statements and hit Enter to see the output in the next line in the cell."
   ],
   "cell_type": "markdown",
   "metadata": {
    "trusted": true,
    "editable": false,
    "deletable": false
   }
  },
  {
   "source": [
    "## Exercise 1: Read and explore your data\n",
    "\n",
    "In this lab, you'll explore a dataset containing information on a university's recent graduates for each department stored in `\"recent_grads.csv\"` file. In this exercise, you'll read in this data using Python's `pandas` module.\n",
    "### Instructions\n",
    "\n",
    "- Import `pandas` as `pd`.\n",
    "- Read in the data from `recent_grads_url` (which is a CSV file) and assign it to a variable called `recent_grads`.\n",
    "- Print the shape of `recent_grads`.\n"
   ],
   "cell_type": "markdown",
   "metadata": {}
  },
  {
   "cell_type": "code",
   "execution_count": null,
   "metadata": {},
   "outputs": [],
   "source": [
    "# Import pandas \n",
    "\n",
    "\n",
    "# Use pandas to read in recent_grads.csv\n",
    "recent_grads = ____('recent_grads.csv')\n",
    "\n",
    "# Print the shape\n",
    "print(____)"
   ]
  },
  {
   "source": [
    "## Exercise 2: Exploring Your Data\n",
    "\n",
    "Now you'll perform some data exploration using the Python `pandas` module. To get a sense of the data, you'll output statistics such as mean, median, count, and percentiles.\n",
    "\n",
    "The DataFrame `recent_grads` is still in your workspace.\n",
    "### Instructions\n",
    "\n",
    "- Print the `.dtypes` of your data so that you know what each column contains.\n",
    "- Output basic summary statistics using a single `pandas` function.\n",
    "- With the same function from before, summary statistics for all columns that aren't of type `object`.\n",
    "\n"
   ],
   "cell_type": "markdown",
   "metadata": {}
  },
  {
   "cell_type": "code",
   "execution_count": null,
   "metadata": {},
   "outputs": [],
   "source": [
    "# Print .dtypes\n",
    "print(____)\n",
    "\n",
    "# Output summary statistics\n",
    "print(____)\n",
    "\n",
    "# Exclude data of type object\n",
    "print(____)"
   ]
  },
  {
   "source": [
    "## Exercise 3: Replacing Missing Values\n",
    "\n",
    "There are some missing values in the dataset that are coded as a string. You'll update these to a value that Python understands as \"missing.\"\n",
    "\n",
    "The list `columns` contains the names of the columns you'll be working with in this exercise.\n",
    "### Instructions\n",
    "\n",
    "- Look at the `dtypes` of the columns in `columns` to make sure that the data is numeric.\n",
    "- It looks like a string is being used to encode missing values. Use the `.unique()` method to figure out what the string is.\n",
    "- Search for missing values in the median, p25th, and p75th columns.\n",
    "- Replace the found missing values with a `NaN` value, using `numpy`'s `np.nan`."
   ],
   "cell_type": "markdown",
   "metadata": {}
  },
  {
   "cell_type": "code",
   "execution_count": null,
   "metadata": {},
   "outputs": [],
   "source": [
    "import numpy as np\n",
    "# Names of the columns we're searching for missing values \n",
    "columns = ['median', 'p25th', 'p75th']\n",
    "\n",
    "# Take a look at the dtypes\n",
    "print(____)\n",
    "\n",
    "# Find how missing values are represented\n",
    "print(recent_grads[\"median\"].____)\n",
    "\n",
    "# Replace missing values with NaN\n",
    "for column in ___:\n",
    "    recent_grads.loc[____ == '____', column] = ____"
   ]
  },
  {
   "source": [
    "## Exercise 4: Select a Column\n",
    "\n",
    "Python's `pandas` module allows you to select a specific column from a DataFrame, which is especially useful for when you only need to manipulate one piece of data. In this exercise, you'll select the `sharewomen` column, which shows the percentage of women for a given department.\n",
    "\n",
    "The DataFrame `recent_grads` is still in your workspace.\n",
    "### Instructions\n",
    "\n",
    "- Select the `sharewomen` column from `recent_grads` and assign this to a variable named `sw_col`.\n",
    "- Output the first 5 rows of `sw_col`.\n"
   ],
   "cell_type": "markdown",
   "metadata": {}
  },
  {
   "cell_type": "code",
   "execution_count": null,
   "metadata": {},
   "outputs": [],
   "source": [
    "# Select sharewomen column\n",
    "sw_col = ____\n",
    "\n",
    "# Output first five rows\n",
    "print(____)"
   ]
  },
  {
   "source": [
    "## Exercise 5: Column Maximum Value\n",
    "\n",
    "Now that you've selected the `sharewomen` column, you'll use `numpy` to output its maximum value.\n",
    "\n",
    "The variable `sw_col` you created in the last exercise is still available in your workspace.\n",
    "### Instructions\n",
    "\n",
    "- Import `numpy` as `np`.\n",
    "- Using a `numpy` built-in function, find the maximum value of the `sharewomen` column and assign this value to the variable `max_sw`.\n",
    "- Print the value of `max_sw`\n"
   ],
   "cell_type": "markdown",
   "metadata": {}
  },
  {
   "cell_type": "code",
   "execution_count": null,
   "metadata": {},
   "outputs": [],
   "source": [
    "# Import numpy\n",
    "\n",
    "\n",
    "# Use max to output maximum values\n",
    "max_sw = ____\n",
    "\n",
    "# Print column max\n",
    "print(____)"
   ]
  },
  {
   "source": [
    "## Exercise: Selecting a Row\n",
    "\n",
    "While you know what the maximum percentage of women in a department is, which department is this? You'll output this information by filtering the dataset with `pandas`.\n",
    "\n",
    "The variables `sw_col` and `max_sw` are still in your workspace.\n",
    "### Instructions\n",
    "\n",
    "- Output the row of data for the department that has the largest percentage of women.\n"
   ],
   "cell_type": "markdown",
   "metadata": {}
  },
  {
   "cell_type": "code",
   "execution_count": null,
   "metadata": {},
   "outputs": [],
   "source": [
    "# Output the row containing the maximum percentage of women\n",
    "print(____)"
   ]
  },
  {
   "source": [
    "## Exercise 6: Converting a DataFrame to Numpy Array\n",
    "\n",
    "Since `numpy` is such a powerful Python module, this exercise asks you to convert a `pandas` DataFrame to a `numpy` array to then utilize a statistics metric available through `numpy` in the next exercise.\n",
    "### Instructions\n",
    "\n",
    "- Select the columns `unemployed` and `low_wage_jobs` from `recent_grads`, then convert them to a `numpy` array. Save this as `recent_grads_np`.\n",
    "- Print the type of `recent_grads_np` to see that it is a `numpy` array.\n"
   ],
   "cell_type": "markdown",
   "metadata": {}
  },
  {
   "cell_type": "code",
   "execution_count": null,
   "metadata": {},
   "outputs": [],
   "source": [
    "# Convert to numpy array\n",
    "recent_grads_np = ____\n",
    "\n",
    "\n",
    "# Print the type of recent_grads_np\n",
    "print(____)"
   ]
  },
  {
   "source": [
    "## Exercise 7: Correlation Coefficient\n",
    "\n",
    "You have some suspicion that there's a relationship between the `low_wage_jobs` and `unemployment_rate` columns, so you decide to use `numpy` to calculate the correlation coefficient.\n",
    "### Instructions\n",
    "\n",
    "- Calculate the correlation matrix of the `numpy` array `recent_grads_np`.\n"
   ],
   "cell_type": "markdown",
   "metadata": {}
  },
  {
   "cell_type": "code",
   "execution_count": null,
   "metadata": {},
   "outputs": [],
   "source": [
    "# Calculate correlation matrix\n",
    "print(np.corrcoef(____))"
   ]
  },
  {
   "source": [
    "# Section 2: Manipulating Data"
   ],
   "cell_type": "markdown",
   "metadata": {}
  },
  {
   "source": [
    "## Exercise 1: Creating Columns I\n",
    "\n",
    "If you look at the dataset, you'll notice that while there's a column which shows the percentage of women in each department, there is no column which shows the percentage of men.\n",
    "### Instructions\n",
    "\n",
    "- Create a new column named `sharemen`, that contains the percentage of men for a given department by dividing the number of men by the total number of students for each department.\n"
   ],
   "cell_type": "markdown",
   "metadata": {}
  },
  {
   "cell_type": "code",
   "execution_count": null,
   "metadata": {},
   "outputs": [],
   "source": [
    "# Add sharemen column\n",
    "recent_grads['sharemen'] = ____"
   ]
  },
  {
   "source": [
    "## Exercise 2: Select Row with Highest Value\n",
    "\n",
    "Remember how you found the row of data with the highest percentage of women? Now you'll find the row that corresponds to the department with the highest rate of men.\n",
    "\n",
    "The module `numpy` has been imported under the alias `np` for you.\n",
    "### Instructions\n",
    "\n",
    "- Using numpy, find the maximum value for the percentage of men and call this variable max_men.\n",
    "- Select the row that has the percentage of men which corresponds to max_men.\n"
   ],
   "cell_type": "markdown",
   "metadata": {}
  },
  {
   "cell_type": "code",
   "execution_count": null,
   "metadata": {},
   "outputs": [],
   "source": [
    "import numpy as np\n",
    "# Find the maximum percentage value of men\n",
    "max_men = ____\n",
    " \n",
    "# Output the row with the highest percentage of men\n",
    "print(____)"
   ]
  },
  {
   "source": [
    "## Exercise 3: Creating columns II\n",
    "\n",
    "Eventually you want to figure out which departments are most balanced between men and women. To accomplish this, you'll add a new column that reports the difference in percentages between men and women.\n",
    "### Instructions\n",
    "\n",
    "- Add a column named `gender_diff` that reports how much higher the rate of women is than the rate of men.\n"
   ],
   "cell_type": "markdown",
   "metadata": {}
  },
  {
   "cell_type": "code",
   "execution_count": null,
   "metadata": {},
   "outputs": [],
   "source": [
    "# Add gender_diff column\n",
    "recent_grads['gender_diff'] = ____"
   ]
  },
  {
   "source": [
    "## Exercise 4: Updating columns\n",
    "\n",
    "Your data for the `gender_diff` column currently consists of negative and positive values, which depend on which group of people (women or men) have a higher percentage. You want to find the five departments with the most balanced gender ratios, but first you decide to make your life easier by replacing the values in the `gender_diff` column with their respective absolute values.\n",
    "### Instructions\n",
    "\n",
    "- Use `numpy` and `pandas` to convert each value in the `gender_diff` column to its absolute value.\n",
    "- Output the five departments with the most balanced gender ratios.\n"
   ],
   "cell_type": "markdown",
   "metadata": {}
  },
  {
   "cell_type": "code",
   "execution_count": null,
   "metadata": {},
   "outputs": [],
   "source": [
    "# Make all gender difference values positive\n",
    "recent_grads['gender_diff'] = ____\n",
    "\n",
    "# Find the 5 rows with lowest gender rate difference\n",
    "print(____)"
   ]
  },
  {
   "source": [
    "## Exercise 5: Filtering rows\n",
    "\n",
    "Finally you can filter out for departments which fail the benchmark of a difference of more than 0.30. Since all the values are now positive, you can do this with a simple boolean operator.\n",
    "\n",
    "You want to find the rows containing departments that are skewed heavily towards men. Using work you've already done, you'll create a new DataFrame that contains this information.\n",
    "\n",
    "The DataFrame `recent_grads` still has the columns `sharemen` and `gender_diff` that you created in previous exercises.\n",
    "### Instructions\n",
    "\n",
    "- Create `diff_30`, a boolean `Series` that is `True` when the corresponding value of `gender_diff` is greater than `0.30` and `False` otherwise.\n",
    "- Make another boolean Series called `more_men` that's true when the corresponding row in `recent_grads` has more men than women.\n",
    "- Combine your two `Series` to make one that you can use to select rows that have both more men than women and a value of `gender_diff` greater than 0.30. Save the result as `more_men_and_diff_30`.\n",
    "- Use this new boolean `Series` to create the DataFrame `fewer_women` that contains only the rows you're interested in."
   ],
   "cell_type": "markdown",
   "metadata": {}
  },
  {
   "cell_type": "code",
   "execution_count": null,
   "metadata": {},
   "outputs": [],
   "source": [
    "# Rows where gender rate difference is greater than .30 \n",
    "diff_30 = ____ > .30\n",
    "\n",
    "# Rows with more men\n",
    "more_men = ____ > ____\n",
    "\n",
    "# Combine more_men and diff_30\n",
    "more_men_and_diff_30 = np.logical_and(____)\n",
    "\n",
    "# Find rows with more men and and gender rate difference greater than .30\n",
    "fewer_women = ____"
   ]
  },
  {
   "source": [
    "## Exercise 6: Grouping with Counts\n",
    "\n",
    "There are various department categories but no sense of how many departments there are in each category. You'll use `pandas` to gain insight into this information.\n",
    "\n",
    "In particular, you'll use the `.groupby()` method of `pandas`. This was not introduced to you in the course, but you'll see it very frequently in your data science journey and it's an important method to understand. This set of exercises will extend your `pandas` knowledge by teaching you how to use the `.groupby()` method.\n",
    "\n",
    "Calls to `.groupby()` have the following three components: the column you want to group, the column you want to aggregate, and the statistic you want to aggregate by. For example, in our dataset, if we wanted to see the percentage of women (`'sharewomen'`) per `'major_category'`, we could leverage a `.groupby` like so: `recent_grads.groupby('major_category')['sharewomen'].mean()`. Here, we are grouping by `'major_category'`, and aggregating `'sharewomen'` by the mean. Give it a try in the IPython Shell if you're curious to see the result!\n",
    "### Instructions\n",
    "\n",
    "\n",
    "- Using the `.groupby()` method, group the `recent_grads` DataFrame by `'major_category'` and then count the number of departments per category using `.count()`.\n",
    "\n"
   ],
   "cell_type": "markdown",
   "metadata": {}
  },
  {
   "cell_type": "code",
   "execution_count": null,
   "metadata": {},
   "outputs": [],
   "source": [
    "# Group by major category and count\n",
    "print(recent_grads.____(['____']).major_category.____)"
   ]
  },
  {
   "source": [
    "## Exercise 7: Grouping with Counts, Part 2\n",
    "\n",
    "You want to get a sense of the number of majors with a lot less women, so you'll perform a similar operation as the one from the last exercise.\n",
    "\n",
    "Use the `fewer_women` DataFrame from a previous exercise.\n",
    "### Instructions\n",
    "\n",
    "- Create a DataFrame that groups the departments by major category and shows the number of departments that are skewed in women.\n",
    "\n"
   ],
   "cell_type": "markdown",
   "metadata": {}
  },
  {
   "cell_type": "code",
   "execution_count": null,
   "metadata": {},
   "outputs": [],
   "source": [
    "# Group departments that have less women by category and count\n",
    "print(____)"
   ]
  },
  {
   "source": [
    "## Exercise 8: Grouping One Column with Means\n",
    "\n",
    "Similar to the exercise you just completed, you can group rows to output the means of different groups within a column.\n",
    "\n",
    "The column `gender_diff` is still available in the `recent_grads` DataFrame.\n",
    "### Instructions\n",
    "\n",
    "- Write code that outputs the average gender percentage difference by major category.\n"
   ],
   "cell_type": "markdown",
   "metadata": {}
  },
  {
   "cell_type": "code",
   "execution_count": null,
   "metadata": {},
   "outputs": [],
   "source": [
    "# Report average gender difference by major category\n",
    "print(____)"
   ]
  },
  {
   "source": [
    "## Exercise 9: Grouping Two Columns with Means\n",
    "\n",
    "You can expand the previous operation to include two columns and output the means for each. To accomplish this, modify the code you just wrote.\n",
    "Instructions\n",
    "\n",
    "- Write a query that outputs the mean number of `'low_wage_jobs'` and average `'unemployment_rate'` grouped by `'major_category'`.\n"
   ],
   "cell_type": "markdown",
   "metadata": {}
  },
  {
   "cell_type": "code",
   "execution_count": null,
   "metadata": {},
   "outputs": [],
   "source": [
    "# Find average number of low wage jobs and unemployment rate of each major category\n",
    "dept_stats = ____.____(['____'])['____', '____'].____\n",
    "print(dept_stats)"
   ]
  },
  {
   "source": [
    "# Section 3: Visualizing Data"
   ],
   "cell_type": "markdown",
   "metadata": {}
  },
  {
   "source": [
    "## Exercise 1: Plotting Scatterplots\n",
    "\n",
    "Now that you've calculated the correlation coefficient between the `low_wage_jobs` and `unemployment_rate` columns, you want to create a visualization to effectively display this relationship. You'll use `matplotlib` to create a scatterplot of these two columns.\n",
    "\n",
    "The DataFrame `dept_stats` is available in your workspace again, and the columns `low_wage_jobs` and `unemployment_rate` have been extracted into variables of the same name.\n",
    "### Instructions\n",
    "\n",
    "- Import `matplotlib.pyplot` with the alias `plt`.\n",
    "- Create a scatter plot between `unemployment_rate` and `low_wage_jobs` per major category.\n",
    "- Label the x axis with `'Unemployment rate'`.\n",
    "- Label the y axis with `'Low pay jobs'`.\n",
    "\n"
   ],
   "cell_type": "markdown",
   "metadata": {}
  },
  {
   "cell_type": "code",
   "execution_count": null,
   "metadata": {},
   "outputs": [],
   "source": [
    "low_wage_jobs = recent_grads['low_wage_jobs']\n",
    "unemployment_rate = recent_grads['unemployment_rate']\n",
    "# Import matplotlib\n",
    "\n",
    "\n",
    "# Create scatter plot\n",
    "plt.____\n",
    "\n",
    "# Label x axis\n",
    "plt.____\n",
    "\n",
    "# Label y axis\n",
    "plt.____\n",
    "\n",
    "# Display the graph \n",
    "plt.show()"
   ]
  },
  {
   "source": [
    "# Exercise 2: Modifying Plot Colors\n",
    "\n",
    "The default settings for `matplotlib` may not be what you hope to present to others, so you decide to customize your plot for low wages versus unemployment rate.\n",
    "\n",
    "Use the `pandas` DataFrame `dept_stats` again.\n",
    "### Instructions\n",
    "\n",
    "- Create the scatterplot visualization between the unemployment rate and number of low wage jobs per major category using the `.plot()` method.\n",
    "- Customize this scatterplot so that the points are red triangles by setting the `color` argument to `\"r\"` and the marker argument `^`.\n",
    "- Display the plot you've created!\n",
    "\n"
   ],
   "cell_type": "markdown",
   "metadata": {}
  },
  {
   "cell_type": "code",
   "execution_count": null,
   "metadata": {},
   "outputs": [],
   "source": [
    "# Plot the red and triangle shaped scatter plot  \n",
    "plt.____\n",
    "\n",
    "# Display the visualization\n"
   ]
  },
  {
   "source": [
    "## Exercise 3: Plotting Histograms\n",
    "\n",
    "Now that you've taken a look at that scatterplot, you want to go back to the `sharewomen` column that you were working with earlier. Specifically, you want to get an idea of how the values of `sharewomen` are distributed. This means you want to plot a histogram. For your convenience, the `sharewomen` column has been extracted from the recent_grads DataFrame into a variable called `sharewomen`.\n",
    "\n",
    "### Instructions\n",
    "\n",
    "- Use `matplotlib` to create a histogram of `sharewomen`.\n",
    "- Show the plot you created.\n"
   ],
   "cell_type": "markdown",
   "metadata": {}
  },
  {
   "cell_type": "code",
   "execution_count": null,
   "metadata": {},
   "outputs": [],
   "source": [
    "sharewomen = recent_grads['sharewomen']\n",
    "# Plot a histogram of sharewomen\n",
    "\n",
    "\n",
    "# Show the plot\n"
   ]
  },
  {
   "source": [
    "## Exercise 4: Plotting with pandas\n",
    "\n",
    "In Python, there are several different ways to create visualizations. In fact, `pandas` has its own visualization capabilities, all of which are built on top of `matplotlib`! For example, you could have created the histogram from the previous exercise using `recent_grads.sharewomen(kind=\"hist\")` instead of `plt.hist(recent_grads.sharewomen)`.\n",
    "\n",
    "Which approach you prefer comes down to personal preference - when working with DataFrames, it is advantageous to use `pandas`' plotting capabilities because the code tends to be less verbose.\n",
    "\n",
    "Here, you will practice creating the plots from the previous exercises using `pandas` instead of `matplotlib`. All `pandas` plots are created using the `.plot()` method on a DataFrame. Inside `.plot()`, you can specify which plot you want to create using the `kind` parameter. For example, `kind= 'hist'` would create a histogram, `kind='scatter'` would create a scatter plot, and so on.\n",
    "### Instructions\n",
    "- Use the `.plot()` method with `kind='scatter'` on the `dept_stats` DataFrame to create a scatter plot with `'unemployment_rate'` on the x-axis and `'low_wage_jobs'` on the y-axis.\n",
    "\n",
    "- Now, create a histogram of the `sharewomen` column of the `recent_grads` DataFrame. "
   ],
   "cell_type": "markdown",
   "metadata": {}
  },
  {
   "cell_type": "code",
   "execution_count": null,
   "metadata": {},
   "outputs": [],
   "source": [
    "# Import matplotlib and pandas\n",
    "import matplotlib.pyplot as plt\n",
    "import pandas as pd\n",
    "\n",
    "# Create scatter plot\n",
    "dept_stats.____(kind='____', x='____', y='____')\n",
    "plt.show()\n",
    "\n",
    "# Create histogram\n",
    "recent_grads.sharewomen.plot(kind='____')\n",
    "plt.show()"
   ]
  },
  {
   "source": [
    "## Congratulations\n",
    "\n",
    "You did it! You have successfully completed the exercises. \n",
    "\n",
    "Save your work by pressing `Ctrl + s` and head over to the next video in the course.\n",
    "\n",
    "Don't forget to Turn Off the Lab. Remember - Don't shut down the machine, but click on the x icon on top right to close the lab session."
   ],
   "cell_type": "markdown",
   "metadata": {}
  }
 ]
}