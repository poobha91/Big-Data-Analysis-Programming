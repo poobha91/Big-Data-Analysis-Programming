{
 "cells": [
  {
   "cell_type": "markdown",
   "metadata": {},
   "source": [
    "# The Python Interface\n",
    "\n",
    "You can type Python code in the code cells following the instruction cells to solve the exercises. \n",
    "\n",
    "You can also use the IPython Shell interactively. Go to View (on the menubar) and click terminal or press `Ctrl` + ` to open the terminal. Once terminal is open, type py and hit Enter. This will launch interactive python cell. You can write python statements and hit Enter to see the output in the next line in the cell."
   ]
  },
  {
   "cell_type": "markdown",
   "metadata": {},
   "source": [
    "## Exercise 1\n",
    "Experiment in the IPython Shell in the terminal; type 15 * 5, for example.\n",
    "Add a line of code in the next cell: print(20 - 5) and click on a green play button besides the cell to run the code."
   ]
  },
  {
   "cell_type": "code",
   "execution_count": 1,
   "metadata": {},
   "outputs": [
    {
     "name": "stdout",
     "output_type": "stream",
     "text": [
      "120\n",
      "15\n"
     ]
    }
   ],
   "source": [
    "# Example, do not modify!\n",
    "print(15 * 8)\n",
    "\n",
    "# Put code below here\n",
    "print(20-5)"
   ]
  },
  {
   "cell_type": "markdown",
   "metadata": {},
   "source": [
    "## Exercise 2: Any comments?\n",
    "\n",
    "You can add comments to your Python scripts. Comments are important to make sure that you and others can understand what your code is about.\n",
    "\n",
    "To add comments to your Python script, you can use the # tag. These comments are not run as Python code, so they will not influence your result. As an example, take the comment on the right, # Just testing substraction: it is completely ignored during execution."
   ]
  },
  {
   "cell_type": "code",
   "execution_count": 2,
   "metadata": {},
   "outputs": [
    {
     "name": "stdout",
     "output_type": "stream",
     "text": [
      "120\n",
      "15\n"
     ]
    }
   ],
   "source": [
    "# Example, do not modify!\n",
    "# Just testing multiplication\n",
    "print(15 * 8)\n",
    "\n",
    "# Put code below here: Add a comment below this line\n",
    "#Just testing substraction\n",
    "print(20 - 5)"
   ]
  },
  {
   "cell_type": "markdown",
   "metadata": {},
   "source": [
    "## Exercise 3: Python as a calculator\n",
    "\n",
    "Python is perfectly suited to do basic calculations. Apart from addition, subtraction, multiplication and division, there is also support for more advanced operations such as:\n",
    "\n",
    "- Exponentiation: **. This operator raises the number to its left to the power of the number to its right: for example 4****2 will give `16`.\n",
    "- Modulo: %. It returns the remainder of the division of the number to the left by the number on its right, for example `18 % 7` equals `4`.\n",
    "\n",
    "The code in the script below gives some examples.\n",
    "\n",
    "Suppose you have $100, which you can invest with a 10% return each year. After one year, it's `100 x 1.1 = 110` dollars, and after two years it's `100 x 1.1 x 1.1 = 121`. Add in the following cell to calculate how much money you end up with after 7 years."
   ]
  },
  {
   "cell_type": "code",
   "execution_count": 10,
   "metadata": {},
   "outputs": [
    {
     "name": "stdout",
     "output_type": "stream",
     "text": [
      "10\n",
      "0\n",
      "15\n",
      "5.0\n",
      "16\n",
      "4\n",
      "194.87171000000012\n"
     ]
    }
   ],
   "source": [
    "# Addition and subtraction\n",
    "print(5 + 5)\n",
    "print(5 - 5)\n",
    "\n",
    "# Multiplication and division\n",
    "print(3 * 5)\n",
    "print(10 / 2)\n",
    "\n",
    "# Exponentiation\n",
    "print(4 ** 2)\n",
    "\n",
    "# Modulo\n",
    "print(18 % 7)\n",
    "\n",
    "# How much is your $100 worth after 7 years?\n",
    "print(100 * 1.1 ** 7) #1.1 * 1.1 * 1.1 * 1.1 * 1.1 * 1.1)\n"
   ]
  },
  {
   "cell_type": "code",
   "execution_count": 13,
   "metadata": {},
   "outputs": [
    {
     "name": "stdout",
     "output_type": "stream",
     "text": [
      "194.87171000000015\n",
      "194.87171000000015\n"
     ]
    }
   ],
   "source": [
    "'''just test the calculcation in different way \n",
    "of this 100 * 1.1 ** 7'''\n",
    "\n",
    "#method 1\n",
    "print(100 * 1.1 * 1.1 * 1.1 * 1.1 * 1.1 * 1.1 * 1.1)\n",
    "\n",
    "deposit = 100\n",
    "investReturn = 1.1\n",
    "\n",
    "#Year 1\n",
    "deposit *= investReturn\n",
    "#Year 2\n",
    "deposit *= investReturn\n",
    "#Year 3\n",
    "deposit *= investReturn\n",
    "#Year 4\n",
    "deposit *= investReturn\n",
    "#Year 5\n",
    "deposit *= investReturn\n",
    "#Year 6\n",
    "deposit *= investReturn\n",
    "#Year 7\n",
    "deposit *= investReturn\n",
    "\n",
    "print(deposit)"
   ]
  },
  {
   "cell_type": "markdown",
   "metadata": {},
   "source": [
    "## Congratulations\n",
    "\n",
    "You did it! You have successfully completed the exercises. \n",
    "\n",
    "Save your work by pressing `Ctrl + s` and head over to the next video in the course.\n",
    "\n",
    "Don't forget to Turn Off the Lab. Remember - Don't shut down the machine, but click on the x icon on top right to close the lab session."
   ]
  }
 ],
 "metadata": {
  "kernelspec": {
   "display_name": "Python 3.8.5 64-bit",
   "metadata": {
    "interpreter": {
     "hash": "1baa965d5efe3ac65b79dfc60c0d706280b1da80fedb7760faf2759126c4f253"
    }
   },
   "name": "python3"
  },
  "language_info": {
   "codemirror_mode": {
    "name": "ipython",
    "version": 3
   },
   "file_extension": ".py",
   "mimetype": "text/x-python",
   "name": "python",
   "nbconvert_exporter": "python",
   "pygments_lexer": "ipython3",
   "version": "3.9.7"
  },
  "orig_nbformat": 2
 },
 "nbformat": 4,
 "nbformat_minor": 2
}
