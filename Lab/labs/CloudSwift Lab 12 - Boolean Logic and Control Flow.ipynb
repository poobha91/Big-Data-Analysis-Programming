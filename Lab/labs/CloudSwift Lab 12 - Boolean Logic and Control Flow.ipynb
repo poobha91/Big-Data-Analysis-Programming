{
 "cells": [
  {
   "cell_type": "markdown",
   "metadata": {},
   "source": [
    "# Boolean Logic and Control Flow\n",
    "\n",
    "In these exercises, you will take control: first, you'll learn how to work with comparison and boolean operators. Next, you will use this knowledge to write your own if statement. Gradually, you'll customize this control structure so that your Python scripts runs different commands in different situations."
   ]
  },
  {
   "cell_type": "markdown",
   "metadata": {},
   "source": [
    "## Exercise 1: Equality\n",
    "\n",
    "To check if two Python values, or variables, are equal, you can use `==`. To check for inequality, you need `!=`. As a refresher, have a look at the following examples, that all result in `True`. Feel free to try them out in the IPython Shell.\n",
    "```\n",
    "2 == (1 + 1)\n",
    "\"intermediate\" != \"python\"\n",
    "True != False\n",
    "\"Python\" != \"python\"\n",
    "```\n",
    "\n",
    "When you write these comparisons in a script, you will need to wrap a `print()` function around them, to see the output.\n",
    "\n",
    "### Instructions\n",
    "\n",
    "- In the editor on the right, write code to see if `True` equals `False`.\n",
    "\n",
    "- Write Python code to check if `-5 * 15` is not equal to `75`.\n",
    "\n",
    "- Ask Python whether the strings `\"pyscript\"` and `\"PyScript\"` are equal.\n",
    "\n",
    "- What happens if you compare booleans and integers? Write code to see if `True` and `1` are equal.\n"
   ]
  },
  {
   "cell_type": "code",
   "execution_count": 41,
   "metadata": {},
   "outputs": [
    {
     "name": "stdout",
     "output_type": "stream",
     "text": [
      "True\n",
      "True\n",
      "True\n",
      "True\n",
      "True\n",
      "False\n",
      "True\n"
     ]
    }
   ],
   "source": [
    "# Comparison of booleans\n",
    "print(2 == (1+1))\n",
    "print(\"intermediate\" != \"python\")\n",
    "print(True != False)\n",
    "print(\"Python\" != \"python\")\n",
    "\n",
    "# Comparison of integers\n",
    "print((-5 * 15) != 75)\n",
    "\n",
    "# Comparison of strings\n",
    "print(\"pyscript\" == \"PyScript\")\n",
    "\n",
    "# Compare a boolean with an integer\n",
    "print(True == 1)"
   ]
  },
  {
   "cell_type": "markdown",
   "metadata": {},
   "source": [
    "## Exercise 2: Greater and less than\n",
    "\n",
    "In the video, Filip also talked about the less than and greater than signs,`<` and `>` in Python. You can combine them with an equals sign: `<=` and`>=.` Pay attention: `<=` is valid syntax, `=<` is not.\n",
    "\n",
    "All Python expressions in the following code chunk evaluate to True:\n",
    "```\n",
    "3 < 4\n",
    "3 <= 4\n",
    "\"alpha\" <= \"beta\"\n",
    "```\n",
    "Remember that for string comparison, Python determines the relationship based on alphabetical order.\n",
    "\n",
    "Instructions\n",
    "\n",
    "Write Python expressions, wrapped in a `print()` function, to check whether:\n",
    "\n",
    "- x is greater than or equal to `-10`. `x` has already been defined for you.\n",
    "\n",
    "- `\"test\"` is less than or equal to `y`. `y` has already been deinfed for you.\n",
    "- `True` is greater than `False`"
   ]
  },
  {
   "cell_type": "code",
   "execution_count": 49,
   "metadata": {},
   "outputs": [
    {
     "name": "stdout",
     "output_type": "stream",
     "text": [
      "False\n",
      "True\n",
      "True\n"
     ]
    }
   ],
   "source": [
    "# Comparison of integers\n",
    "x = -3 * 6\n",
    "print(x > -10)\n",
    "\n",
    "# Comparison of strings\n",
    "y = \"test\"\n",
    "print(\"test\" <= y)\n",
    "\n",
    "# Comparison of booleans\n",
    "print(True > False)"
   ]
  },
  {
   "cell_type": "markdown",
   "metadata": {},
   "source": [
    "## Exercise 3: and, or, not (1)\n",
    "\n",
    "A boolean is either `1` or `0`, `True` or `False`. With boolean operators, such as `and`, `or` and `not`, you can combine these booleans to perform more advanced queries on your data.\n",
    "\n",
    "In the sample code on the right, two variables are defined: `my_kitchen` and `your_kitchen`, representing areas.\n",
    "\n",
    "### Instructions\n",
    "\n",
    "Write Python expressions, wrapped in a `print()` function, to check whether:\n",
    "\n",
    "- `my_kitchen` is bigger than 10 and smaller than 18.\n",
    "\n",
    "- `my_kitchen` is smaller than 14 or bigger than 17.\n",
    "\n",
    "- double the area of `my_kitchen` is smaller than triple the area of `your_kitchen`."
   ]
  },
  {
   "cell_type": "code",
   "execution_count": 57,
   "metadata": {},
   "outputs": [
    {
     "name": "stdout",
     "output_type": "stream",
     "text": [
      "False\n",
      "True\n",
      "True\n"
     ]
    }
   ],
   "source": [
    "# Define variables\n",
    "my_kitchen = 18.0\n",
    "your_kitchen = 14.0\n",
    "\n",
    "# my_kitchen bigger than 10 and smaller than 18?\n",
    "print(my_kitchen > 10 and my_kitchen < 18)\n",
    "\n",
    "# my_kitchen smaller than 14 or bigger than 17?\n",
    "print(my_kitchen < 14 or my_kitchen > 17)\n",
    "\n",
    "# Double my_kitchen smaller than triple your_kitchen?\n",
    "print((2 * my_kitchen) < (3 * your_kitchen))"
   ]
  },
  {
   "cell_type": "markdown",
   "metadata": {},
   "source": [
    "## Exercise 4: and, or, not (2)\n",
    "\n",
    "To see if you completely understood the boolean operators, have a look at the following piece of Python code:\n",
    "```\n",
    "x = 8\n",
    "y = 9\n",
    "not(not(x < 3) and not(y > 14 or y > 10))\n",
    "```\n",
    "What will the result be if you exectue these three commands in the IPython Shell?\n",
    "\n",
    "_NB: Notice that `not` has a higher priority than `and` and `or`, it is executed first._\n",
    "\n",
    "### Instruction\n",
    "- Guess the output of above code before you run it in next cell - whether it will be `true` or `false` or it will throw error?\n",
    "- copy and paste above code in the next cell and run it to verify your answer. (use print() function to print the output)"
   ]
  },
  {
   "cell_type": "code",
   "execution_count": 63,
   "metadata": {},
   "outputs": [
    {
     "name": "stdout",
     "output_type": "stream",
     "text": [
      "False\n"
     ]
    }
   ],
   "source": [
    "# verify the answer you guessed\n",
    "x = 8\n",
    "y = 9\n",
    "print(not(not(x < 3) and not(y > 14 or y > 10)))"
   ]
  },
  {
   "cell_type": "markdown",
   "metadata": {},
   "source": [
    "## Exercise 5: Warmup\n",
    "\n",
    "To experiment with `if` and `else` a bit, have a look at this code sample:\n",
    "```\n",
    "area = 10.0\n",
    "if(area < 9) :\n",
    "    print(\"small\")\n",
    "elif(area < 12) :\n",
    "    print(\"medium\")\n",
    "else :\n",
    "    print(\"large\")\n",
    "```    \n",
    "What will the output be if you run this piece of code in the IPython Shell?\n",
    "\n",
    "### Instructions\n",
    "- Guess the output before you run the code on following cell. This will help you assess whether you have understood it rightly."
   ]
  },
  {
   "cell_type": "code",
   "execution_count": 76,
   "metadata": {},
   "outputs": [
    {
     "name": "stdout",
     "output_type": "stream",
     "text": [
      "medium\n"
     ]
    }
   ],
   "source": [
    "# run following code and verify your answer\n",
    "area = 10.0\n",
    "if(area < 9) :\n",
    "    print(\"small\")\n",
    "elif(area < 12) :\n",
    "    print(\"medium\")\n",
    "else :\n",
    "    print(\"large\")"
   ]
  },
  {
   "cell_type": "markdown",
   "metadata": {},
   "source": [
    "## Exercise 6: if\n",
    "\n",
    "It's time to take a closer look around in your house.\n",
    "\n",
    "Two variables are defined in the sample code: `room`, a string that tells you which room of the house we're looking at, and `area`, the area of that room.\n",
    "\n",
    "### Instructions\n",
    "\n",
    "- Examine the `if` statement that prints out \"Looking around in the kitchen.\"` if room equals `\"kit\"`.\n",
    "\n",
    "- Write another `if` statement that prints out \"big place!\" if `area` is greater than 15."
   ]
  },
  {
   "cell_type": "code",
   "execution_count": 92,
   "metadata": {},
   "outputs": [
    {
     "name": "stdout",
     "output_type": "stream",
     "text": [
      "looking around in the kitchen.\n",
      "Big Place!\n"
     ]
    }
   ],
   "source": [
    "# Define variables\n",
    "room = \"kit\"\n",
    "area = 14.0\n",
    "\n",
    "# if statement for room\n",
    "if room == \"kit\" :\n",
    "    print(\"looking around in the kitchen.\")\n",
    "\n",
    "# if statement for area\n",
    "if area > 15 :\n",
    "    print(\"Big Place!\")"
   ]
  },
  {
   "cell_type": "markdown",
   "metadata": {},
   "source": [
    "## Exercise 7: Add else\n",
    "\n",
    "On the right, the `if` construct for `room` has been extended with an `else` statement so that \"looking around elsewhere.\" is printed if the condition `room = \"kit\"` evaluates to `False`.\n",
    "\n",
    "Can you do a similar thing to add more functionality to the `if` construct for `area`?\n",
    "\n",
    "### Instructions\n",
    "\n",
    "- Add an `else` statement to the second control structure so that \"pretty small.\" is printed out if `area > 15` evaluates to `False`."
   ]
  },
  {
   "cell_type": "code",
   "execution_count": 99,
   "metadata": {},
   "outputs": [
    {
     "name": "stdout",
     "output_type": "stream",
     "text": [
      "looking around in the kitchen.\n",
      "Pretty small\n"
     ]
    }
   ],
   "source": [
    "# Define variables\n",
    "room = \"kit\"\n",
    "area = 14.0\n",
    "\n",
    "# if-else construct for room\n",
    "if room == \"kit\" :\n",
    "    print(\"looking around in the kitchen.\")\n",
    "else :\n",
    "    print(\"Looking around elsewhere\")\n",
    "\n",
    "# if-else construct for area\n",
    "if area > 15 :\n",
    "    print(\"Big Place!\")\n",
    "else:\n",
    "    print(\"Pretty small\")"
   ]
  },
  {
   "cell_type": "markdown",
   "metadata": {},
   "source": [
    "## Exercise 8: Customize further: elif\n",
    "\n",
    "It's also possible to have a look around in the bedroom: the sample code contains an `elif` part that checks if `room` equals \"bed\". In that case, \"looking around in the bedroom.\" is printed out.\n",
    "\n",
    "Up to you now: make a similar addition to the second control structure to further customize the messages for different values of `area`.\n",
    "\n",
    "### Instructions\n",
    "\n",
    "- Add an `elif` to the second control structure such that \"medium size, nice!\" is printed out if `area` is greater than `10`"
   ]
  },
  {
   "cell_type": "code",
   "execution_count": 101,
   "metadata": {},
   "outputs": [
    {
     "name": "stdout",
     "output_type": "stream",
     "text": [
      "Looking around in the bedroom\n",
      "medium size, nice!\n"
     ]
    }
   ],
   "source": [
    "# Define variables\n",
    "room = \"bed\"\n",
    "area = 14.0\n",
    "\n",
    "# if-elif-else construct for room\n",
    "if room == \"kit\" :\n",
    "    print(\"looking around in the kitchen.\")\n",
    "elif room == \"bed\":\n",
    "    print(\"Looking around in the bedroom\")\n",
    "else :\n",
    "    print(\"Looking around elsewhere\")\n",
    " \n",
    "# if-elif-else construct for area\n",
    "if area > 15 :\n",
    "    print(\"Big Place!\")\n",
    "elif area > 10 :\n",
    "    print(\"medium size, nice!\")\n",
    "else:\n",
    "    print(\"Pretty small\")"
   ]
  },
  {
   "cell_type": "markdown",
   "metadata": {},
   "source": [
    "## Congratulations\n",
    "\n",
    "You did it! You have successfully completed the exercises. \n",
    "\n",
    "Save your work by pressing `Ctrl + s` and head over to the next video in the course.\n",
    "\n",
    "Don't forget to Turn Off the Lab. Remember - Don't shut down the machine, but click on the x icon on top right to close the lab session."
   ]
  }
 ],
 "metadata": {
  "kernelspec": {
   "display_name": "Python 3",
   "language": "python",
   "name": "python3"
  },
  "language_info": {
   "codemirror_mode": {
    "name": "ipython",
    "version": 3
   },
   "file_extension": ".py",
   "mimetype": "text/x-python",
   "name": "python",
   "nbconvert_exporter": "python",
   "pygments_lexer": "ipython3",
   "version": "3.10.4 (tags/v3.10.4:9d38120, Mar 23 2022, 23:13:41) [MSC v.1929 64 bit (AMD64)]"
  },
  "orig_nbformat": 2,
  "vscode": {
   "interpreter": {
    "hash": "b7bc22553df2d4c25d6fc64546af57a4a3bc427995b62661a3497c7d4401282d"
   }
  }
 },
 "nbformat": 4,
 "nbformat_minor": 2
}
