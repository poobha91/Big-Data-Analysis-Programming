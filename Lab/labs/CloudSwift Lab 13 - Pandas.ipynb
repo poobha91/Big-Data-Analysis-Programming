{
 "cells": [
  {
   "cell_type": "markdown",
   "metadata": {},
   "source": [
    "# Pandas\n",
    "\n",
    "In these exercises, you will get hands-on practice with importing data into Python as a Pandas DataFrame. Next, you'll use different techniques to select the exact piece of information you need from the dataset."
   ]
  },
  {
   "cell_type": "markdown",
   "metadata": {},
   "source": [
    "## Exercise 1: CSV to DataFrame (1)\n",
    "\n",
    "The DataFrame is one of Pandas' most important data structures. It's basically a way to store tabular data, where you can label the rows and the columns.\n",
    "\n",
    "In the exercises that follow, you will be working with vehicle data in different countries. Each observation corresponds to a country, and the columns give information about the number of vehicles per capita, whether people drive left or right, and so on. This data is available in a CSV file, named `cars.csv`. It is available in your current working directory, so the path to the file is simply `'cars.csv'`.\n",
    "\n",
    "To import CSV data into Python as a Pandas DataFrame, you can use `read_csv()`.\n",
    "\n",
    "### Instructions\n",
    "\n",
    "- To import CSV files, you still need the `pandas` package: import it as `pd`.\n",
    "\n",
    "- Use `pd.read_csv()` to import `cars.csv` data as a DataFrame. Store this dataframe as `cars`.\n",
    "\n",
    "- Print out `cars`. Does everything look OK?"
   ]
  },
  {
   "cell_type": "code",
   "execution_count": 3,
   "metadata": {},
   "outputs": [
    {
     "name": "stdout",
     "output_type": "stream",
     "text": [
      "  Unnamed: 0  cars_per_cap        country  drives_right\n",
      "0         US           809  United States          True\n",
      "1        AUS           731      Australia         False\n",
      "2        JAP           588          Japan         False\n",
      "3         IN            18          India         False\n",
      "4         RU           200         Russia          True\n",
      "5        MOR            70        Morocco          True\n",
      "6         EG            45          Egypt          True\n"
     ]
    }
   ],
   "source": [
    "# Import pandas as pd\n",
    "import pandas as pd\n",
    "\n",
    "# Import the cars.csv data: cars\n",
    "cars = pd.read_csv(\"C:/Users/Poobharathii/Documents/Unitar/Semester 1/Big Data Analysis Programming/Lab/labs/cars.csv\")\n",
    "\n",
    "# Print out cars\n",
    "print(cars)"
   ]
  },
  {
   "cell_type": "markdown",
   "metadata": {},
   "source": [
    "## Exercise 2: CSV to DataFrame (2)\n",
    "\n",
    "Your `read_csv()` call to import the CSV data didn't generate an error, but the output is not entirely what you'd want: the row labels are imported as another column, that has no name.\n",
    "\n",
    "Remember `index_col`, an argument of `read_csv()` that you can use to specify which column in the CSV file should be used as a row label? Well, that's exactly what you need here!\n",
    "\n",
    "Python code that solves the previous exercise is already included; can you make the appropriate changes to fix the data import?\n",
    "\n",
    "### Instructions\n",
    "\n",
    "- Run the code with _Submit Answer_ and assert that the first column should actually be used as row labels.\n",
    "\n",
    "- Specify the `index_col` argument inside `pd.read_csv()`: set it to `0`, so that the first column is used as row labels.\n",
    "\n",
    "- Has the printout of `cars` improved now?"
   ]
  },
  {
   "cell_type": "code",
   "execution_count": 28,
   "metadata": {},
   "outputs": [
    {
     "name": "stdout",
     "output_type": "stream",
     "text": [
      "     cars_per_cap        country  drives_right\n",
      "US            809  United States          True\n",
      "AUS           731      Australia         False\n",
      "JAP           588          Japan         False\n",
      "IN             18          India         False\n",
      "RU            200         Russia          True\n",
      "MOR            70        Morocco          True\n",
      "EG             45          Egypt          True\n"
     ]
    }
   ],
   "source": [
    "# Import pandas as pd\n",
    "import pandas as pd\n",
    "\n",
    "# Fix import by including index_col\n",
    "cars = pd.read_csv('cars.csv', index_col=0)\n",
    "\n",
    "# Print out cars\n",
    "print(cars)"
   ]
  },
  {
   "cell_type": "markdown",
   "metadata": {},
   "source": [
    "## Exercise 3: Square Brackets\n",
    "\n",
    "In the video, you saw that you can index and select Pandas DataFrames in many different ways. The simplest, but not the most powerful way, is to use square brackets.\n",
    "\n",
    "In the sample code on the right, the same cars data is imported from a CSV files as a Pandas DataFrame. To select only the `cars_per_cap` column from `cars`, you can use:\n",
    "```\n",
    "cars['cars_per_cap']\n",
    "cars[['cars_per_cap']]\n",
    "```\n",
    "The single bracket version gives a Pandas Series, the double bracket version gives a Pandas DataFrame.\n",
    "\n",
    "### Instructions\n",
    "\n",
    "- Use single square brackets to print out the `country` column of `cars` as a Pandas Series.\n",
    "\n",
    "- Use double square brackets to print out the `country` column of `cars` as a Pandas DataFrame. Do this by putting `country` in two square brackets this time."
   ]
  },
  {
   "cell_type": "code",
   "execution_count": 38,
   "metadata": {},
   "outputs": [
    {
     "name": "stdout",
     "output_type": "stream",
     "text": [
      "US     United States\n",
      "AUS        Australia\n",
      "JAP            Japan\n",
      "IN             India\n",
      "RU            Russia\n",
      "MOR          Morocco\n",
      "EG             Egypt\n",
      "Name: country, dtype: object\n",
      "----------------------------------\n",
      "[['country']]\n"
     ]
    }
   ],
   "source": [
    "# Import cars data\n",
    "import pandas as pd\n",
    "cars = pd.read_csv('cars.csv', index_col = 0)\n",
    "\n",
    "# Print out country column as Pandas Series\n",
    "print(cars[\"country\"])\n",
    "print(\"----------------------------------\")\n",
    "# Print out country column as Pandas DataFrame\n",
    "print([[\"country\"]])\n"
   ]
  },
  {
   "cell_type": "markdown",
   "metadata": {},
   "source": [
    "## Exercise 4: loc (1)\n",
    "\n",
    "With `loc` you can do practically any data selection operation on DataFrames you can think of. `loc` is label-based, which means that you have to specify rows and columns based on their row and column labels.\n",
    "\n",
    "Try out the following commands in the IPython Shell to experiment with `loc` to select observations:\n",
    "```\n",
    "cars.loc['RU']\n",
    "cars.loc[['RU']]\n",
    "cars.loc[['RU', 'AUS']]\n",
    "```\n",
    "As before, code is included that imports the cars data as a Pandas DataFrame.\n",
    "\n",
    "### Instructions\n",
    "\n",
    "- Use `loc` to select the observation corresponding to Japan as a Series. The label of this row is `JAP`. Make sure to print the resulting Series.\n",
    "\n",
    "- Use `loc` to select the observations for Australia and Egypt as a DataFrame. You can find out about the labels of these rows by inspecting `cars` in the IPython Shell. Make sure to print the resulting DataFrame."
   ]
  },
  {
   "cell_type": "code",
   "execution_count": 46,
   "metadata": {},
   "outputs": [
    {
     "name": "stdout",
     "output_type": "stream",
     "text": [
      "cars_per_cap      588\n",
      "country         Japan\n",
      "drives_right    False\n",
      "Name: JAP, dtype: object\n",
      "----------------------------------\n",
      "     cars_per_cap country  drives_right\n",
      "JAP           588   Japan         False\n",
      "------------NEXT------------\n",
      "----------------------------------\n",
      "     cars_per_cap    country  drives_right\n",
      "AUS           731  Australia         False\n",
      "EG             45      Egypt          True\n"
     ]
    }
   ],
   "source": [
    "# Import cars data\n",
    "import pandas as pd\n",
    "cars = pd.read_csv('cars.csv', index_col = 0)\n",
    "\n",
    "# Print out observation for Japan\n",
    "print(cars.loc[\"JAP\"])\n",
    "print(\"----------------------------------\")\n",
    "print(cars.loc[[\"JAP\"]])\n",
    "\n",
    "print(\"------------NEXT------------\")\n",
    "# Print out observations for Australia and Egypt\n",
    "#print(cars.loc[\"AUS\", \"EG\"])\n",
    "print(\"----------------------------------\")\n",
    "print(cars.loc[[\"AUS\", \"EG\"]])"
   ]
  },
  {
   "cell_type": "markdown",
   "metadata": {},
   "source": [
    "## Exercise 5: loc (2)\n",
    "\n",
    "`loc` also allows you to select both rows and columns from a DataFrame. To experiment, try out the following commands in the IPython Shell.\n",
    "```\n",
    "cars.loc['IN', 'cars_per_cap']\n",
    "cars.loc[['IN', 'RU'], 'cars_per_cap']\n",
    "cars.loc[['IN', 'RU'], ['cars_per_cap', 'country']]\n",
    "```\n",
    "### Instructions\n",
    "\n",
    "- Print out the `drives_right` value of the row corresponding to Morocco (its row label is `MOR`)\n",
    "\n",
    "- Print out a sub-DataFrame, containing the observations for Russia and Morocco and the columns `country` and `drives_right`"
   ]
  },
  {
   "cell_type": "code",
   "execution_count": 51,
   "metadata": {},
   "outputs": [
    {
     "name": "stdout",
     "output_type": "stream",
     "text": [
      "True\n",
      "     country  drives_right\n",
      "RU    Russia          True\n",
      "MOR  Morocco          True\n"
     ]
    }
   ],
   "source": [
    "# Import cars data\n",
    "import pandas as pd\n",
    "cars = pd.read_csv('cars.csv', index_col = 0)\n",
    "\n",
    "# Print out drives_right value of Morocco\n",
    "print(cars.loc[\"MOR\", \"drives_right\"])\n",
    "\n",
    "# Print sub-DataFrame\n",
    "print(cars.loc[[\"RU\", \"MOR\"], [\"country\", \"drives_right\"]])"
   ]
  },
  {
   "cell_type": "markdown",
   "metadata": {},
   "source": [
    "## Congratulations\n",
    "\n",
    "You did it! You have successfully completed the exercises. \n",
    "\n",
    "Save your work by pressing `Ctrl + s` and head over to the next video in the course.\n",
    "\n",
    "Don't forget to Turn Off the Lab. Remember - Don't shut down the machine, but click on the x icon on top right to close the lab session."
   ]
  }
 ],
 "metadata": {
  "kernelspec": {
   "display_name": "Python 3",
   "language": "python",
   "name": "python3"
  },
  "language_info": {
   "codemirror_mode": {
    "name": "ipython",
    "version": 3
   },
   "file_extension": ".py",
   "mimetype": "text/x-python",
   "name": "python",
   "nbconvert_exporter": "python",
   "pygments_lexer": "ipython3",
   "version": "3.10.4 (tags/v3.10.4:9d38120, Mar 23 2022, 23:13:41) [MSC v.1929 64 bit (AMD64)]"
  },
  "orig_nbformat": 2,
  "vscode": {
   "interpreter": {
    "hash": "b7bc22553df2d4c25d6fc64546af57a4a3bc427995b62661a3497c7d4401282d"
   }
  }
 },
 "nbformat": 4,
 "nbformat_minor": 2
}
