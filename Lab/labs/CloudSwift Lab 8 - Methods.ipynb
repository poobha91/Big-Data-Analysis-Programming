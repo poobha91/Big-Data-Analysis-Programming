{
 "cells": [
  {
   "cell_type": "markdown",
   "metadata": {},
   "source": [
    "# Methods \n",
    "In these exercises, you will get to know and use different kinds of methods. You will understand the subtleties that come with methods by using them on strings and lists.\n"
   ]
  },
  {
   "cell_type": "markdown",
   "metadata": {},
   "source": [
    "## Exercise 1: String Methods\n",
    "Strings come with a bunch of methods. Follow the instructions closely to discover some of them. If you want to discover them in more detail, you can always type `help(str)` in the IPython Shell.\n",
    "\n",
    "A string `room` has already been created for you to experiment with.\n",
    "\n",
    "### Instructions\n",
    "- Use the `upper()` method on `room` and store the result in `room_up`. Use the dot notation.\n",
    "- Print out `room` and `room_up`. Did both change?\n",
    "- Print out the number of o's on the variable room by calling `count()` on `room` and passing the letter `\"o\"` as an input to the method. We're talking about the variable `room`, not the word `\"room\"`!\n"
   ]
  },
  {
   "cell_type": "code",
   "execution_count": 1,
   "metadata": {},
   "outputs": [
    {
     "name": "stdout",
     "output_type": "stream",
     "text": [
      "poolhouse\n",
      "POOLHOUSE\n",
      "3\n"
     ]
    }
   ],
   "source": [
    "# string to experiment with: room\n",
    "room = \"poolhouse\"\n",
    "\n",
    "# Use upper() on room: room_up\n",
    "room_up = room.upper()\n",
    "\n",
    "# Print out room and room_up\n",
    "print(room)\n",
    "print(room_up)\n",
    "\n",
    "# Print out the number of o's in room\n",
    "print(room.count(\"o\"))"
   ]
  },
  {
   "cell_type": "markdown",
   "metadata": {},
   "source": [
    "## Exercise 2: List Methods\n",
    "Strings are not the only Python types that have methods associated with them. Lists, floats, integers and booleans are also types that come packaged with a bunch of useful methods. In this exercise, you'll be experimenting with:\n",
    "\n",
    "- `index()`, to get the index of the first element of a list that matches its input and\n",
    "- `count()`, to get the number of times an element appears in a list.\n",
    "You'll be working on the list with the area of different parts of a house: `areas`.\n",
    "\n",
    "### Instructions\n",
    "- Use the `index()` method to get the index of the element in `areas` that is equal to `20.0`. Print out this index.\n",
    "- Call `count()` on `areas` to find out how many times `14.5` appears in the list. Again, simply print out this number."
   ]
  },
  {
   "cell_type": "code",
   "execution_count": 4,
   "metadata": {},
   "outputs": [
    {
     "name": "stdout",
     "output_type": "stream",
     "text": [
      "2\n",
      "0\n"
     ]
    }
   ],
   "source": [
    "# Create list areas\n",
    "areas = [11.25, 18.0, 20.0, 10.75, 9.50]\n",
    "\n",
    "# Print out the index of the element 20.0\n",
    "print(areas.index(20.0))\n",
    "\n",
    "# Print out how often 14.5 appears in areas\n",
    "print(areas.count(14.5))\n"
   ]
  },
  {
   "cell_type": "markdown",
   "metadata": {},
   "source": [
    "## Exercise 3: List Methods (2)\n",
    "Most list methods will change the list they're called on. Examples are:\n",
    "\n",
    "- `append()`, that adds an element to the list it is called on,\n",
    "- `remove()`, that removes the first element of a list that matches the input, and\n",
    "- `reverse()`, that reverses the order of the elements in the list it is called on.\n",
    "You'll be working on the list with the area of different parts of the house: `areas`.\n",
    "\n",
    "### Instructions\n",
    "- Use `append()` twice to add the size of the poolhouse and the garage again: 24.5 and 15.45, respectively. Make sure to add them in this order.\n",
    "- Print out `areas`\n",
    "- Use the `reverse()` method to reverse the order of the elements in areas.\n",
    "- Print out `areas` once more."
   ]
  },
  {
   "cell_type": "code",
   "execution_count": 10,
   "metadata": {},
   "outputs": [
    {
     "name": "stdout",
     "output_type": "stream",
     "text": [
      "[11.25, 18.0, 20.0, 10.75, 9.5, 24.5, 15.45]\n",
      "[15.45, 24.5, 9.5, 10.75, 20.0, 18.0, 11.25]\n"
     ]
    }
   ],
   "source": [
    "# Create list areas\n",
    "areas = [11.25, 18.0, 20.0, 10.75, 9.50]\n",
    "\n",
    "# Use append twice to add poolhouse and garage size\n",
    "areas.append(24.5)\n",
    "areas.append( 15.45)\n",
    "\n",
    "# Print out areas\n",
    "print(areas)\n",
    "\n",
    "# Reverse the orders of the elements in areas\n",
    "areas.reverse()\n",
    "\n",
    "# Print out areas\n",
    "print(areas)"
   ]
  },
  {
   "cell_type": "markdown",
   "metadata": {},
   "source": [
    "## Congratulations\n",
    "\n",
    "You did it! You have successfully completed the exercises. \n",
    "\n",
    "Save your work by pressing `Ctrl + s` and head over to the next video in the course.\n",
    "\n",
    "Don't forget to Turn Off the Lab. Remember - Don't shut down the machine, but click on the x icon on top right to close the lab session."
   ]
  }
 ],
 "metadata": {
  "kernelspec": {
   "display_name": "Python 3",
   "language": "python",
   "name": "python3"
  },
  "language_info": {
   "codemirror_mode": {
    "name": "ipython",
    "version": 3
   },
   "file_extension": ".py",
   "mimetype": "text/x-python",
   "name": "python",
   "nbconvert_exporter": "python",
   "pygments_lexer": "ipython3",
   "version": "3.10.4 (tags/v3.10.4:9d38120, Mar 23 2022, 23:13:41) [MSC v.1929 64 bit (AMD64)]"
  },
  "orig_nbformat": 2,
  "vscode": {
   "interpreter": {
    "hash": "b7bc22553df2d4c25d6fc64546af57a4a3bc427995b62661a3497c7d4401282d"
   }
  }
 },
 "nbformat": 4,
 "nbformat_minor": 2
}
