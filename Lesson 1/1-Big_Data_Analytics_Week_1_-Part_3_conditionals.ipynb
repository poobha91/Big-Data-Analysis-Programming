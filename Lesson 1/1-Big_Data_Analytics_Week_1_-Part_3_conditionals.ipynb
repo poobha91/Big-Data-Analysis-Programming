{
 "cells": [
  {
   "cell_type": "markdown",
   "metadata": {
    "slideshow": {
     "slide_type": "slide"
    }
   },
   "source": [
    "# Part 3: Conditionals\n",
    "\n"
   ]
  },
  {
   "cell_type": "markdown",
   "metadata": {
    "slideshow": {
     "slide_type": "slide"
    }
   },
   "source": [
    "## `True` and `False`\n",
    "\n",
    "* There are only two Boolean values: `True` and `False`\n",
    "  * Used by computers to track objectively true and false statements\n",
    "  * Sometimes represented as 1 and 0"
   ]
  },
  {
   "cell_type": "markdown",
   "metadata": {
    "slideshow": {
     "slide_type": "fragment"
    }
   },
   "source": [
    "* \"The blue whale is the largest mammal\"\n",
    "  * **Objectively true**"
   ]
  },
  {
   "cell_type": "markdown",
   "metadata": {
    "slideshow": {
     "slide_type": "fragment"
    }
   },
   "source": [
    "* \"Texas is the largest of the 50 United States\"\n",
    "  * **Objectively false**"
   ]
  },
  {
   "cell_type": "markdown",
   "metadata": {
    "slideshow": {
     "slide_type": "fragment"
    }
   },
   "source": [
    "* \"The black bear is the best type of bear\"\n",
    "  * **Opinion - Neither objectively true nor false.**"
   ]
  },
  {
   "cell_type": "markdown",
   "metadata": {
    "slideshow": {
     "slide_type": "slide"
    }
   },
   "source": [
    "## Comparative operators\n",
    "\n",
    "Comparative operators return `True`/`False` values:\n",
    " * `==` : test of equality\n",
    " * `!=` : test of inequality (\"not equals\")\n",
    " * `<` and `>` : less-than / greater-than\n",
    " * `<=` and `>=` : less-than-or-equal-to / greater-than-or-equal-to"
   ]
  },
  {
   "cell_type": "code",
   "execution_count": null,
   "metadata": {
    "slideshow": {
     "slide_type": "slide"
    }
   },
   "outputs": [],
   "source": [
    "# == returns True if the surrounding values are equal...\n",
    "5 == 5"
   ]
  },
  {
   "cell_type": "code",
   "execution_count": null,
   "metadata": {
    "slideshow": {
     "slide_type": "fragment"
    }
   },
   "outputs": [],
   "source": [
    "# ...and False otherwise\n",
    "5 == -5"
   ]
  },
  {
   "cell_type": "code",
   "execution_count": null,
   "metadata": {
    "slideshow": {
     "slide_type": "fragment"
    }
   },
   "outputs": [],
   "source": [
    "# != returns the opposite of ==\n",
    "5 != -5"
   ]
  },
  {
   "cell_type": "markdown",
   "metadata": {
    "slideshow": {
     "slide_type": "slide"
    }
   },
   "source": [
    "Be careful not to confuse `=` and `==`.\n",
    "* `=` is the assignment operator: puts data into a variable.\n",
    "* `==` is the test of equality: evaluates if two pieces of data are equal.\n",
    "* Very common programming mix-up."
   ]
  },
  {
   "cell_type": "markdown",
   "metadata": {
    "slideshow": {
     "slide_type": "fragment"
    }
   },
   "source": [
    "Note that neither `=` nor `==` are direct analogs of **=** as it's used in math.\n",
    "* **=** in math is an assertion: x = 5 implies x **is** 5.\n",
    "* `==` poses a question: `x == 5` asks \"Is `x` equal to 5?\" (it might not be).\n",
    "* `=` is an action: `x = 5` sets the value of `x` to 5."
   ]
  },
  {
   "cell_type": "markdown",
   "metadata": {
    "slideshow": {
     "slide_type": "slide"
    }
   },
   "source": [
    "## Aside: Checking divisibility with `==` with `%`\n",
    "\n",
    "- `%` is the modulus operator.\n",
    "- returns the remainder when we divide `x` by `y`.\n",
    "- `x % y` is read \"x mod y\" (similar to how `x * y` is read \"x times y\")."
   ]
  },
  {
   "cell_type": "code",
   "execution_count": 1,
   "metadata": {
    "slideshow": {
     "slide_type": "fragment"
    }
   },
   "outputs": [
    {
     "data": {
      "text/plain": [
       "1"
      ]
     },
     "execution_count": 1,
     "metadata": {},
     "output_type": "execute_result"
    }
   ],
   "source": [
    "5 % 2"
   ]
  },
  {
   "cell_type": "markdown",
   "metadata": {
    "slideshow": {
     "slide_type": "fragment"
    }
   },
   "source": [
    "- If **x mod y** is 0, then **x** divides evenly into **y**.\n",
    "- For example, if **x mod 2** is 0, then **x** is even.\n",
    "- We will use this *a lot* today."
   ]
  },
  {
   "cell_type": "code",
   "execution_count": 2,
   "metadata": {
    "slideshow": {
     "slide_type": "fragment"
    }
   },
   "outputs": [
    {
     "data": {
      "text/plain": [
       "True"
      ]
     },
     "execution_count": 2,
     "metadata": {},
     "output_type": "execute_result"
    }
   ],
   "source": [
    "10 % 2 == 0"
   ]
  },
  {
   "cell_type": "markdown",
   "metadata": {
    "slideshow": {
     "slide_type": "slide"
    }
   },
   "source": [
    "## Comparative operators: `<`, `>`, `<=`, `>=`"
   ]
  },
  {
   "cell_type": "code",
   "execution_count": 3,
   "metadata": {
    "slideshow": {
     "slide_type": "fragment"
    }
   },
   "outputs": [
    {
     "data": {
      "text/plain": [
       "True"
      ]
     },
     "execution_count": 3,
     "metadata": {},
     "output_type": "execute_result"
    }
   ],
   "source": [
    "2 < 3"
   ]
  },
  {
   "cell_type": "code",
   "execution_count": 4,
   "metadata": {
    "slideshow": {
     "slide_type": "fragment"
    }
   },
   "outputs": [
    {
     "data": {
      "text/plain": [
       "False"
      ]
     },
     "execution_count": 4,
     "metadata": {},
     "output_type": "execute_result"
    }
   ],
   "source": [
    "3 < 3"
   ]
  },
  {
   "cell_type": "code",
   "execution_count": 5,
   "metadata": {
    "slideshow": {
     "slide_type": "fragment"
    }
   },
   "outputs": [
    {
     "data": {
      "text/plain": [
       "True"
      ]
     },
     "execution_count": 5,
     "metadata": {},
     "output_type": "execute_result"
    }
   ],
   "source": [
    "3 <= 3"
   ]
  },
  {
   "cell_type": "markdown",
   "metadata": {
    "slideshow": {
     "slide_type": "slide"
    }
   },
   "source": [
    "\n",
    "Comparative operators work on strings as well (where they indicate lexical order). It can be helpful to think of `x < y` as meaning \"does `x` come before `y` in sorted list?\""
   ]
  },
  {
   "cell_type": "code",
   "execution_count": 7,
   "metadata": {
    "slideshow": {
     "slide_type": "fragment"
    }
   },
   "outputs": [
    {
     "data": {
      "text/plain": [
       "True"
      ]
     },
     "execution_count": 7,
     "metadata": {},
     "output_type": "execute_result"
    }
   ],
   "source": [
    "\"a\" < \"b\""
   ]
  },
  {
   "cell_type": "code",
   "execution_count": 8,
   "metadata": {
    "slideshow": {
     "slide_type": "fragment"
    }
   },
   "outputs": [
    {
     "data": {
      "text/plain": [
       "False"
      ]
     },
     "execution_count": 8,
     "metadata": {},
     "output_type": "execute_result"
    }
   ],
   "source": [
    "\"b\" < \"a\""
   ]
  },
  {
   "cell_type": "code",
   "execution_count": null,
   "metadata": {
    "slideshow": {
     "slide_type": "fragment"
    }
   },
   "outputs": [],
   "source": [
    "\"a\" > \"A\""
   ]
  },
  {
   "cell_type": "markdown",
   "metadata": {
    "slideshow": {
     "slide_type": "slide"
    }
   },
   "source": [
    "## Comparative operators: `in`\n",
    "\n",
    "`in` is a special operator in Python that checks for \"membership\"."
   ]
  },
  {
   "cell_type": "code",
   "execution_count": 9,
   "metadata": {
    "slideshow": {
     "slide_type": "fragment"
    }
   },
   "outputs": [
    {
     "data": {
      "text/plain": [
       "True"
      ]
     },
     "execution_count": 9,
     "metadata": {},
     "output_type": "execute_result"
    }
   ],
   "source": [
    "# is the item present in a list?\n",
    "1 in [1, 2, 3, 4, 5]"
   ]
  },
  {
   "cell_type": "code",
   "execution_count": 10,
   "metadata": {
    "slideshow": {
     "slide_type": "fragment"
    }
   },
   "outputs": [
    {
     "data": {
      "text/plain": [
       "True"
      ]
     },
     "execution_count": 10,
     "metadata": {},
     "output_type": "execute_result"
    }
   ],
   "source": [
    "# is the item a key of a dictionary?\n",
    "\"apple\" in {\"apple\":0.99, \"banana\":0.59}"
   ]
  },
  {
   "cell_type": "code",
   "execution_count": 13,
   "metadata": {},
   "outputs": [
    {
     "data": {
      "text/plain": [
       "True"
      ]
     },
     "execution_count": 13,
     "metadata": {},
     "output_type": "execute_result"
    }
   ],
   "source": [
    "dict = {\"apple\":0.99, \"banana\":0.59}\n",
    "\"apple\" in dict\n"
   ]
  },
  {
   "cell_type": "code",
   "execution_count": null,
   "metadata": {
    "slideshow": {
     "slide_type": "fragment"
    }
   },
   "outputs": [],
   "source": [
    "# is the item (a string) a substring of a longer string?\n",
    "\"i\" in \"Team\""
   ]
  },
  {
   "cell_type": "markdown",
   "metadata": {
    "slideshow": {
     "slide_type": "slide"
    }
   },
   "source": [
    "## Logical operators: `and` and `or`\n",
    "\n",
    "The operators `and` and `or` allow us to ask more sophisticated logical questions."
   ]
  },
  {
   "cell_type": "code",
   "execution_count": null,
   "metadata": {
    "slideshow": {
     "slide_type": "fragment"
    }
   },
   "outputs": [],
   "source": [
    "# <and> returns True if both flanking statements are True\n",
    "1 < 10 and 10 < 1"
   ]
  },
  {
   "cell_type": "code",
   "execution_count": null,
   "metadata": {
    "slideshow": {
     "slide_type": "fragment"
    }
   },
   "outputs": [],
   "source": [
    "1 < 10 and 10 > 1"
   ]
  },
  {
   "cell_type": "code",
   "execution_count": null,
   "metadata": {
    "slideshow": {
     "slide_type": "fragment"
    }
   },
   "outputs": [],
   "source": [
    "# <or> returns True if at least one flanking statement is True\n",
    "1 < 10 or 1 > 10"
   ]
  },
  {
   "cell_type": "markdown",
   "metadata": {
    "slideshow": {
     "slide_type": "slide"
    }
   },
   "source": [
    "## Logical operators: `not`\n",
    "\n",
    "`not` *negates* (flips) the truth value that follows it (the logical equivalent of multiplying by -1)."
   ]
  },
  {
   "cell_type": "code",
   "execution_count": 14,
   "metadata": {
    "slideshow": {
     "slide_type": "fragment"
    }
   },
   "outputs": [
    {
     "data": {
      "text/plain": [
       "False"
      ]
     },
     "execution_count": 14,
     "metadata": {},
     "output_type": "execute_result"
    }
   ],
   "source": [
    "not True"
   ]
  },
  {
   "cell_type": "code",
   "execution_count": 15,
   "metadata": {
    "slideshow": {
     "slide_type": "fragment"
    }
   },
   "outputs": [
    {
     "data": {
      "text/plain": [
       "True"
      ]
     },
     "execution_count": 15,
     "metadata": {},
     "output_type": "execute_result"
    }
   ],
   "source": [
    "not 10 < 1"
   ]
  },
  {
   "cell_type": "code",
   "execution_count": null,
   "metadata": {
    "slideshow": {
     "slide_type": "fragment"
    }
   },
   "outputs": [],
   "source": [
    "not 1 < 10 and 10 < 1"
   ]
  },
  {
   "cell_type": "code",
   "execution_count": null,
   "metadata": {
    "slideshow": {
     "slide_type": "fragment"
    }
   },
   "outputs": [],
   "source": [
    "# use parentheses to make the order of execution more explicit\n",
    "not (1 < 10 and 10 < 1)"
   ]
  },
  {
   "cell_type": "markdown",
   "metadata": {
    "slideshow": {
     "slide_type": "slide"
    }
   },
   "source": [
    "## Expanded operator precedence\n",
    "\n",
    "* Higher rows have higher precedence (evaluate first)\n",
    "  * `( )`\n",
    "  * `[]` (indexing and slicing), `f( )` (function calls)\n",
    "  * `**`\n",
    "  * `*`, `/`, `//`, `%`\n",
    "  * `+`, `-`\n",
    "  * `in`, `<`, `<=`, `>`, `>=`, `!=`, `==`\n",
    "  * `not`\n",
    "  * `and`\n",
    "  * `or`\n",
    "* Operators on the same row are tied and evaluate left to right\n",
    "* When in doubt, add `()`s"
   ]
  },
  {
   "cell_type": "markdown",
   "metadata": {
    "slideshow": {
     "slide_type": "slide"
    }
   },
   "source": [
    "## Conditionals: the `if` statement\n",
    "\n",
    "Like the `for` loop, the `if` statement is another common \"structure\" for building programs. An `if` block will only execute if a given *condition* is `True`."
   ]
  },
  {
   "cell_type": "code",
   "execution_count": 16,
   "metadata": {
    "slideshow": {
     "slide_type": "fragment"
    }
   },
   "outputs": [
    {
     "name": "stdout",
     "output_type": "stream",
     "text": [
      "4 is even\n"
     ]
    }
   ],
   "source": [
    "x = 4\n",
    "if x % 2 == 0:\n",
    "    print( x, \"is even\" )"
   ]
  },
  {
   "cell_type": "code",
   "execution_count": 18,
   "metadata": {
    "slideshow": {
     "slide_type": "fragment"
    }
   },
   "outputs": [
    {
     "name": "stdout",
     "output_type": "stream",
     "text": [
      "I found a substring!\n"
     ]
    }
   ],
   "source": [
    "TEST = \"eric\" in \"America\" # <- Boolean value stored in all-caps variable\n",
    "if TEST:\n",
    "    print( \"I found a substring!\" )"
   ]
  },
  {
   "cell_type": "code",
   "execution_count": 20,
   "metadata": {
    "slideshow": {
     "slide_type": "slide"
    }
   },
   "outputs": [
    {
     "name": "stdout",
     "output_type": "stream",
     "text": [
      "Put on a jacket!\n"
     ]
    }
   ],
   "source": [
    "IS_COLD = True\n",
    "GOING_OUTSIDE = False\n",
    "if IS_COLD or GOING_OUTSIDE:\n",
    "    print( \"Put on a jacket!\" )"
   ]
  },
  {
   "cell_type": "markdown",
   "metadata": {
    "slideshow": {
     "slide_type": "slide"
    }
   },
   "source": [
    "## Conditionals: the `if`/`else` statement\n",
    "\n",
    "The `if`/`else` statement is slightly fancier: it executes the `if` block if a given condition is `True`, otherwise it executes the `else` block."
   ]
  },
  {
   "cell_type": "code",
   "execution_count": 23,
   "metadata": {
    "slideshow": {
     "slide_type": "fragment"
    }
   },
   "outputs": [
    {
     "name": "stdout",
     "output_type": "stream",
     "text": [
      "4 is even\n"
     ]
    }
   ],
   "source": [
    "x = 4\n",
    "if x % 2 == 0:\n",
    "    print( x, \"is even\" )\n",
    "else:\n",
    "    print( x, \"is odd\" )"
   ]
  },
  {
   "cell_type": "markdown",
   "metadata": {
    "slideshow": {
     "slide_type": "slide"
    }
   },
   "source": [
    "* `if`/`else` statements are fundamental to decision making in programs (and life)."
   ]
  },
  {
   "cell_type": "code",
   "execution_count": 24,
   "metadata": {
    "slideshow": {
     "slide_type": "fragment"
    }
   },
   "outputs": [
    {
     "name": "stdout",
     "output_type": "stream",
     "text": [
      "Stop!\n"
     ]
    }
   ],
   "source": [
    "traffic_signal = \"Red\"\n",
    "if traffic_signal == \"Green\":\n",
    "    print( \"Let's go!\" )\n",
    "else:\n",
    "    print( \"Stop!\" )"
   ]
  },
  {
   "cell_type": "markdown",
   "metadata": {
    "slideshow": {
     "slide_type": "slide"
    }
   },
   "source": [
    "## Conditionals:  the `if`/`elif`/`else` statement\n",
    "\n",
    "The `if`/`elif`/`else` statement is the most flexible: it allows us to check a variety of possible conditions. Only the block associated with the first `True` condition will be executed. Here, `else` is often used to catch an unexpected option."
   ]
  },
  {
   "cell_type": "code",
   "execution_count": 25,
   "metadata": {
    "slideshow": {
     "slide_type": "fragment"
    }
   },
   "outputs": [
    {
     "name": "stdout",
     "output_type": "stream",
     "text": [
      "Prepare to stop.\n"
     ]
    }
   ],
   "source": [
    "traffic_signal = \"Yellow\"\n",
    "if traffic_signal == \"Green\":\n",
    "    print( \"Let's go!\" )\n",
    "elif traffic_signal == \"Yellow\":\n",
    "    print( \"Prepare to stop.\" )\n",
    "elif traffic_signal == \"Red\":\n",
    "    print( \"Stop!\" )\n",
    "else:\n",
    "    print( \"Unknown signal\" )"
   ]
  },
  {
   "cell_type": "markdown",
   "metadata": {
    "slideshow": {
     "slide_type": "slide"
    }
   },
   "source": [
    "`if`/`elif` differs from a pair of `if` statements:"
   ]
  },
  {
   "cell_type": "code",
   "execution_count": 26,
   "metadata": {
    "slideshow": {
     "slide_type": "fragment"
    }
   },
   "outputs": [
    {
     "name": "stdout",
     "output_type": "stream",
     "text": [
      "5 is greater than 3\n"
     ]
    }
   ],
   "source": [
    "x = 5\n",
    "if x > 3:\n",
    "    print( x, \"is greater than 3\" )\n",
    "elif x > 1:\n",
    "    print( x, \"is greater than 1\" )"
   ]
  },
  {
   "cell_type": "code",
   "execution_count": null,
   "metadata": {
    "slideshow": {
     "slide_type": "fragment"
    }
   },
   "outputs": [],
   "source": [
    "if x > 3:\n",
    "    print( x, \"is greater than 3\" )\n",
    "if x > 1:\n",
    "    print( x, \"is greater than 1\" )"
   ]
  },
  {
   "cell_type": "markdown",
   "metadata": {
    "slideshow": {
     "slide_type": "slide"
    }
   },
   "source": [
    "## Conditionals in loops\n",
    "\n",
    "Conditionals frequently arise within loops. There, they allow us to perform different actions depending on the current value of the loop variable. Note the second level of indentation for the `if`/`else` blocks."
   ]
  },
  {
   "cell_type": "code",
   "execution_count": 27,
   "metadata": {
    "slideshow": {
     "slide_type": "fragment"
    }
   },
   "outputs": [
    {
     "name": "stdout",
     "output_type": "stream",
     "text": [
      "1 is odd\n",
      "2 is even\n",
      "3 is odd\n",
      "4 is even\n",
      "5 is odd\n"
     ]
    }
   ],
   "source": [
    "for n in [1, 2, 3, 4, 5]:\n",
    "    if n % 2 == 0:\n",
    "        print( n, \"is even\" )\n",
    "    else:\n",
    "        print( n, \"is odd\" )"
   ]
  },
  {
   "cell_type": "markdown",
   "metadata": {
    "slideshow": {
     "slide_type": "slide"
    }
   },
   "source": [
    "## Conditionals in loops: Fizz Buzz\n",
    "\n",
    "- \"Fizz Buzz\" is a children's game in which players count in a circle.\n",
    "- When it's time to say a number that is divisible by 3, you say \"Fizz\" instead of the number.\n",
    "- When it's time to say a number that is divisible by 5, you say \"Buzz\".\n",
    "- If the number is divisible by both 3 and 5, you say \"Fizz Buzz\"."
   ]
  },
  {
   "cell_type": "code",
   "execution_count": 28,
   "metadata": {
    "slideshow": {
     "slide_type": "fragment"
    }
   },
   "outputs": [
    {
     "name": "stdout",
     "output_type": "stream",
     "text": [
      "1, 2, Fizz, 4, Buzz, Fizz, 7, 8, Fizz, Buzz, 11, Fizz, 13, 14, Fizz Buzz, 16, 17, Fizz, 19, Buzz, Fizz, 22, 23, Fizz, Buzz, 26, Fizz, 28, 29, Fizz Buzz, 31, 32, Fizz, 34, "
     ]
    }
   ],
   "source": [
    "for n in range( 1, 35 ):   # <- range( X, Y ) starts from X and stops at Y\n",
    "    say = n\n",
    "    if n % 3 == 0 and n % 5 == 0:\n",
    "        say = \"Fizz Buzz\"\n",
    "    elif n % 3 == 0:\n",
    "        say = \"Fizz\"\n",
    "    elif n % 5 == 0:\n",
    "        say = \"Buzz\"\n",
    "    print( say, end=\", \" ) # <- terminate with \", \" rather than \"\\n\" (newline) "
   ]
  },
  {
   "cell_type": "markdown",
   "metadata": {
    "slideshow": {
     "slide_type": "slide"
    }
   },
   "source": [
    "# Conditionals in loops: Fizz Buzz\n",
    "\n",
    "The order of the tests in our `if`/`elif`/`else` statement different from my description of the game. What happens if I use the original order?"
   ]
  },
  {
   "cell_type": "code",
   "execution_count": null,
   "metadata": {
    "slideshow": {
     "slide_type": "fragment"
    }
   },
   "outputs": [],
   "source": [
    "for n in range( 1, 35 ):\n",
    "    say = n\n",
    "    if n % 3 == 0:\n",
    "        say = \"Fizz\"\n",
    "    elif n % 5 == 0:\n",
    "        say = \"Buzz\"\n",
    "    elif n % 3 == 0 and n % 5 == 0:\n",
    "        say = \"Fizz Buzz\"\n",
    "    print( say, end=\", \" )"
   ]
  },
  {
   "cell_type": "markdown",
   "metadata": {
    "slideshow": {
     "slide_type": "slide"
    }
   },
   "source": [
    "* **Structure conditionals from more to less specific**."
   ]
  },
  {
   "cell_type": "markdown",
   "metadata": {
    "slideshow": {
     "slide_type": "slide"
    }
   },
   "source": [
    "## Conditionals in loops: Fizz Buzz\n",
    "\n",
    "We can also approach this problem with **nested conditionals**:"
   ]
  },
  {
   "cell_type": "code",
   "execution_count": null,
   "metadata": {
    "slideshow": {
     "slide_type": "fragment"
    }
   },
   "outputs": [],
   "source": [
    "for i in range( 1, 35 ):\n",
    "    say = i\n",
    "    if i % 3 == 0:\n",
    "        if i % 5 == 0:\n",
    "            say = \"Fizz Buzz\"\n",
    "        else:\n",
    "            say = \"Fizz\"\n",
    "    elif i % 5 == 0:\n",
    "        say = \"Buzz\"\n",
    "    print( say, end=\", \" )"
   ]
  },
  {
   "cell_type": "markdown",
   "metadata": {
    "slideshow": {
     "slide_type": "slide"
    }
   },
   "source": [
    "**Deeply nested code is harder for PEOPLE to read. Avoid when possible.**"
   ]
  },
  {
   "cell_type": "markdown",
   "metadata": {
    "slideshow": {
     "slide_type": "slide"
    }
   },
   "source": [
    "## Conditionals in loops: Max Price\n",
    "\n",
    "Find the most expensive fruit in this dictionary of prices:"
   ]
  },
  {
   "cell_type": "code",
   "execution_count": 30,
   "metadata": {
    "slideshow": {
     "slide_type": "fragment"
    }
   },
   "outputs": [],
   "source": [
    "prices = {\n",
    "    \"apple\":      0.99,\n",
    "    \"banana\":     0.59,\n",
    "    \"cantaloupe\": 2.99,\n",
    "    \"grape\":      0.05,\n",
    "}"
   ]
  },
  {
   "cell_type": "code",
   "execution_count": 32,
   "metadata": {
    "slideshow": {
     "slide_type": "fragment"
    }
   },
   "outputs": [
    {
     "name": "stdout",
     "output_type": "stream",
     "text": [
      "2.99 0.05\n"
     ]
    }
   ],
   "source": [
    "# a common \"motif\" for finding a max\n",
    "max_price = 0\n",
    "for fruit in prices:\n",
    "    my_price = prices[fruit]\n",
    "    if my_price > max_price:\n",
    "        max_price = my_price\n",
    "print( max_price )    "
   ]
  },
  {
   "cell_type": "markdown",
   "metadata": {
    "slideshow": {
     "slide_type": "slide"
    }
   },
   "source": [
    "## `break` and `continue` change loop behavior\n",
    "\n",
    "* Executing `break` exits the loop immediately.\n",
    "* Executing `continue` moves immediately to the next cycle of the loop."
   ]
  },
  {
   "cell_type": "code",
   "execution_count": null,
   "metadata": {
    "slideshow": {
     "slide_type": "fragment"
    }
   },
   "outputs": [],
   "source": [
    "for n in range( 10 ):\n",
    "    print( n, end=\" \" )"
   ]
  },
  {
   "cell_type": "code",
   "execution_count": 33,
   "metadata": {
    "slideshow": {
     "slide_type": "fragment"
    }
   },
   "outputs": [
    {
     "name": "stdout",
     "output_type": "stream",
     "text": [
      "0 1 2 3 4 5 "
     ]
    }
   ],
   "source": [
    "for n in range( 10 ):\n",
    "    if n > 5:\n",
    "        break\n",
    "    print( n, end=\" \")"
   ]
  },
  {
   "cell_type": "code",
   "execution_count": 34,
   "metadata": {
    "slideshow": {
     "slide_type": "fragment"
    }
   },
   "outputs": [
    {
     "name": "stdout",
     "output_type": "stream",
     "text": [
      "5 6 7 8 9 "
     ]
    }
   ],
   "source": [
    "for n in range( 10 ):\n",
    "    if n < 5:\n",
    "        continue\n",
    "    print( n, end=\" \" )"
   ]
  },
  {
   "cell_type": "markdown",
   "metadata": {
    "slideshow": {
     "slide_type": "slide"
    }
   },
   "source": [
    "## The `while` loop\n",
    "\n",
    "The `while` continues looping as long as a condition is `True`."
   ]
  },
  {
   "cell_type": "code",
   "execution_count": 35,
   "metadata": {
    "slideshow": {
     "slide_type": "fragment"
    }
   },
   "outputs": [
    {
     "name": "stdout",
     "output_type": "stream",
     "text": [
      "0 1 2 3 4 5 6 7 8 9 "
     ]
    }
   ],
   "source": [
    "x = 0\n",
    "while x < 10:\n",
    "    print( x, end=\" \" )\n",
    "    x += 1"
   ]
  },
  {
   "cell_type": "markdown",
   "metadata": {
    "slideshow": {
     "slide_type": "fragment"
    }
   },
   "source": [
    "- **If we comment out the `x += 1` line, then `x < 10` will ALWAYS be `True`, and we will loop forever.**\n",
    "- This is an example of an \"infinite loop\".\n",
    "- If your code is \"hanging\" (running for a long time without doing anything), check for bad `while` loops."
   ]
  },
  {
   "cell_type": "markdown",
   "metadata": {
    "slideshow": {
     "slide_type": "slide"
    }
   },
   "source": [
    "## Practice: Logical Operators"
   ]
  },
  {
   "cell_type": "code",
   "execution_count": null,
   "metadata": {
    "slideshow": {
     "slide_type": "fragment"
    }
   },
   "outputs": [],
   "source": [
    "# (1) write a logical statement involving numbers that returns True"
   ]
  },
  {
   "cell_type": "code",
   "execution_count": null,
   "metadata": {
    "slideshow": {
     "slide_type": "fragment"
    }
   },
   "outputs": [],
   "source": [
    "# (2) write a logical statement involving strings that returns False"
   ]
  },
  {
   "cell_type": "code",
   "execution_count": null,
   "metadata": {
    "slideshow": {
     "slide_type": "fragment"
    }
   },
   "outputs": [],
   "source": [
    "# (3) write a logical statement involving a collection"
   ]
  },
  {
   "cell_type": "code",
   "execution_count": null,
   "metadata": {
    "slideshow": {
     "slide_type": "fragment"
    }
   },
   "outputs": [],
   "source": [
    "# (4) write a logical statement with two <ands> and one <or> that returns True"
   ]
  },
  {
   "cell_type": "code",
   "execution_count": null,
   "metadata": {
    "slideshow": {
     "slide_type": "fragment"
    }
   },
   "outputs": [],
   "source": [
    "# (5) write a logical statement with an <and>, <or>, and <not> that returns False"
   ]
  },
  {
   "cell_type": "markdown",
   "metadata": {
    "slideshow": {
     "slide_type": "slide"
    }
   },
   "source": [
    "## Practice: Conditionals"
   ]
  },
  {
   "cell_type": "code",
   "execution_count": null,
   "metadata": {
    "slideshow": {
     "slide_type": "fragment"
    }
   },
   "outputs": [],
   "source": [
    "time = 0\n",
    "location = \"I don't know\"\n",
    "# (1) write an <if/elif/else> block here that determines where you are today based on the hour (out of 24)\n",
    "print( location )"
   ]
  },
  {
   "cell_type": "code",
   "execution_count": null,
   "metadata": {
    "slideshow": {
     "slide_type": "fragment"
    }
   },
   "outputs": [],
   "source": [
    "# (2) expand the block below to offer guesses for the other three combinations of the two TESTS\n",
    "CAN_FLY = True\n",
    "BIGGER_THAN_BREADBOX = True\n",
    "if CAN_FLY and BIGGER_THAN_BREADBOX:\n",
    "    print( \"could be an albatross?\" )"
   ]
  },
  {
   "cell_type": "markdown",
   "metadata": {
    "slideshow": {
     "slide_type": "slide"
    }
   },
   "source": [
    "## Practice: Conditionals in loops"
   ]
  },
  {
   "cell_type": "code",
   "execution_count": null,
   "metadata": {
    "slideshow": {
     "slide_type": "fragment"
    }
   },
   "outputs": [],
   "source": [
    "# (1) modify the loop to find the \"earliest\" character in the given string (based on sorting order)\n",
    "text = \"alphAbet\"\n",
    "earliest = \"z\" # <- initialized as the last possible character, lower-case z\n",
    "for char in text:\n",
    "    continue\n",
    "print( earliest )"
   ]
  },
  {
   "cell_type": "code",
   "execution_count": null,
   "metadata": {
    "slideshow": {
     "slide_type": "fragment"
    }
   },
   "outputs": [],
   "source": [
    "# this code uses the <is None> motif to initialize <earliest>\n",
    "# this way we don't have to think about how to initialize <earliest> in a logical way\n",
    "# (2) What happens if you evaluate this without modifying it?\n",
    "# (3) What if you copy-paste your loop code from above and then evaluate?\n",
    "text = \"alphAbet\"\n",
    "earliest = None\n",
    "for char in text:\n",
    "    if earliest is None:\n",
    "        earliest = char\n",
    "    continue\n",
    "print( earliest )"
   ]
  },
  {
   "cell_type": "code",
   "execution_count": null,
   "metadata": {
    "slideshow": {
     "slide_type": "fragment"
    }
   },
   "outputs": [],
   "source": [
    "# (4) modify this code to print the fruit with the max price, rather than the price itself\n",
    "prices = {\n",
    "    \"apple\":      0.99,\n",
    "    \"banana\":     0.59,\n",
    "    \"cantaloupe\": 2.99,\n",
    "    \"grape\":      0.05,\n",
    "}\n",
    "max_price = 0\n",
    "for fruit in prices:\n",
    "    my_price = prices[fruit]\n",
    "    if my_price > max_price:\n",
    "        max_price = my_price\n",
    "print( max_price )"
   ]
  },
  {
   "cell_type": "code",
   "execution_count": null,
   "metadata": {
    "slideshow": {
     "slide_type": "fragment"
    }
   },
   "outputs": [],
   "source": [
    "# (5) Modify the \"Fizz Buzz\" definition below to produce the same output using a <while> loop\n",
    "for n in range( 1, 35 ):\n",
    "    say = n\n",
    "    if n % 3 == 0:\n",
    "        say = \"Fizz\"\n",
    "    elif n % 5 == 0:\n",
    "        say = \"Buzz\"\n",
    "    elif n % 3 == 0 and n % 5 == 0:\n",
    "        say = \"Fizz Buzz\"\n",
    "    print( say, end=\", \" )"
   ]
  },
  {
   "cell_type": "code",
   "execution_count": null,
   "metadata": {
    "slideshow": {
     "slide_type": "fragment"
    }
   },
   "outputs": [],
   "source": [
    "# (6) CHALLENGE: Implement the \"Fizz Buzz\" game using three <if> statements within a <for> loop\n",
    "# HINT: You will \"build\" your saying rather than choosing it"
   ]
  },
  {
   "cell_type": "markdown",
   "metadata": {
    "slideshow": {
     "slide_type": "slide"
    }
   },
   "source": [
    "## Bonus:  the *ternary* operator\n",
    "\n",
    "Simple `if`/`else` statements (i.e. those with one \"line\" per block) can be expressed with the **ternary operator** `A if B else C`. This operator returns `A` if `B` is `True`, otherwise it returns `C`."
   ]
  },
  {
   "cell_type": "code",
   "execution_count": null,
   "metadata": {
    "slideshow": {
     "slide_type": "fragment"
    }
   },
   "outputs": [],
   "source": [
    "pattern = \"fun\"\n",
    "text = \"fundamentals\"\n",
    "answer = \"found\" if (pattern in text) else \"missing\"\n",
    "print( answer )"
   ]
  }
 ],
 "metadata": {
  "celltoolbar": "Slideshow",
  "kernelspec": {
   "display_name": "Python 3",
   "language": "python",
   "name": "python3"
  },
  "language_info": {
   "codemirror_mode": {
    "name": "ipython",
    "version": 3
   },
   "file_extension": ".py",
   "mimetype": "text/x-python",
   "name": "python",
   "nbconvert_exporter": "python",
   "pygments_lexer": "ipython3",
   "version": "3.8.8"
  },
  "livereveal": {
   "transition": "none"
  }
 },
 "nbformat": 4,
 "nbformat_minor": 2
}
